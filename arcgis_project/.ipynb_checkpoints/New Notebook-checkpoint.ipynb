{
 "cells": [
  {
   "cell_type": "code",
   "execution_count": 23,
   "metadata": {},
   "outputs": [
    {
     "ename": "ExecuteError",
     "evalue": "ERROR 000544: Invalid field name FID_boyce_clark_figs\nFailed to execute (PolygonToCenterline).\n",
     "output_type": "error",
     "traceback": [
      "\u001b[0;31m---------------------------------------------------------------------------\u001b[0m\n\u001b[0;31mExecuteError\u001b[0m                              Traceback (most recent call last)",
      "In  \u001b[0;34m[23]\u001b[0m:\nLine \u001b[0;34m20\u001b[0m:    arcpy.topographic.PolygonToCenterline(inputLyr, out_feature_class)\u001b[37m\u001b[39;49;00m\n",
      "File \u001b[0;34mC:\\Program Files\\ArcGIS\\Pro\\Resources\\ArcPy\\arcpy\\topographic.py\u001b[0m, in \u001b[0;32mPolygonToCenterline\u001b[0m:\nLine \u001b[0;34m1850\u001b[0m:  \u001b[34mraise\u001b[39;49;00m e\u001b[37m\u001b[39;49;00m\n",
      "File \u001b[0;34mC:\\Program Files\\ArcGIS\\Pro\\Resources\\ArcPy\\arcpy\\topographic.py\u001b[0m, in \u001b[0;32mPolygonToCenterline\u001b[0m:\nLine \u001b[0;34m1847\u001b[0m:  retval = convertArcObjectToPythonObject(gp.PolygonToCenterline_topographic(*gp_fixargs((in_features, out_feature_class, connecting_features), \u001b[34mTrue\u001b[39;49;00m)))\u001b[37m\u001b[39;49;00m\n",
      "File \u001b[0;34mC:\\Program Files\\ArcGIS\\Pro\\Resources\\ArcPy\\arcpy\\geoprocessing\\_base.py\u001b[0m, in \u001b[0;32m<lambda>\u001b[0m:\nLine \u001b[0;34m520\u001b[0m:   \u001b[34mreturn\u001b[39;49;00m \u001b[34mlambda\u001b[39;49;00m *args: val(*gp_fixargs(args, \u001b[34mTrue\u001b[39;49;00m))\u001b[37m\u001b[39;49;00m\n",
      "\u001b[0;31mExecuteError\u001b[0m: ERROR 000544: Invalid field name FID_boyce_clark_figs\nFailed to execute (PolygonToCenterline).\n\n\u001b[0;31m---------------------------------------------------------------------------\u001b[0m"
     ]
    }
   ],
   "source": [
    "# Name: PolygonToCenterline_sample.py\n",
    "# Description: Select the rivers and produce centerlines\n",
    "\n",
    "# Import System Modules\n",
    "import arcpy\n",
    "\n",
    "# Check Out Extensions\n",
    "arcpy.CheckOutExtension('Foundation')\n",
    "\n",
    "# Setting Local Variables\n",
    "in_features = 'C:/Users/vanessa610/Documents/Winter 2024/GEOG 275/Final Project/data/boyce_clark_figs.shp'\n",
    "out_feature_class = r'C:\\Users\\vanessa610\\Documents\\Winter 2024\\GEOG 275\\Final Project\\arcgis_project\\arcgis_project.gdb'\n",
    "\n",
    "arcpy.AddField_management(in_features, \"FID_BCF\", \"DOUBLE\")\n",
    "\n",
    "# Select only the Rivers subtype\n",
    "inputLyr = arcpy.management.MakeFeatureLayer(in_features, \"bc\")\n",
    "\n",
    "# Execute Polygon To Centerline\n",
    "arcpy.topographic.PolygonToCenterline(inputLyr, out_feature_class)\n",
    "\n",
    "# Check In Extensions\n",
    "arcpy.CheckInExtension(\"Foundation\")"
   ]
  },
  {
   "cell_type": "code",
   "execution_count": 16,
   "metadata": {},
   "outputs": [
    {
     "name": "stdout",
     "output_type": "stream",
     "text": [
      "FID\n",
      "Shape\n",
      "Shape_Leng\n",
      "Shape_Area\n",
      "DISTRICT\n"
     ]
    }
   ],
   "source": [
    "\n",
    "# List all fields in the input feature class\n",
    "fields = arcpy.ListFields(in_features)\n",
    "for field in fields:\n",
    "    print(field.name)"
   ]
  },
  {
   "cell_type": "code",
   "execution_count": 3,
   "metadata": {},
   "outputs": [
    {
     "data": {
      "text/plain": [
       "'C:\\\\Users\\\\vanessa610\\\\Documents\\\\Winter 2024\\\\GEOG 275\\\\Final Project\\\\data\\\\boyce_clark_figs'"
      ]
     },
     "execution_count": 3,
     "metadata": {},
     "output_type": "execute_result"
    }
   ],
   "source": [
    "in_features"
   ]
  },
  {
   "cell_type": "code",
   "execution_count": null,
   "metadata": {},
   "outputs": [],
   "source": []
  }
 ],
 "metadata": {
  "kernelspec": {
   "display_name": "ArcGISPro",
   "language": "Python",
   "name": "python3"
  },
  "language_info": {
   "file_extension": ".py",
   "name": "python",
   "version": "3"
  }
 },
 "nbformat": 4,
 "nbformat_minor": 2
}
