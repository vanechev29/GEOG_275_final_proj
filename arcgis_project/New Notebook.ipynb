{
 "cells": [
  {
   "cell_type": "code",
   "execution_count": 8,
   "metadata": {},
   "outputs": [],
   "source": [
    "# Name: PolygonToCenterline_sample.py\n",
    "# Description: Select the rivers and produce centerlines\n",
    "\n",
    "# Import System Modules\n",
    "import arcpy\n",
    "\n",
    "def center(in_features, out_feature_class):\n",
    "    # Check Out Extensions\n",
    "    arcpy.CheckOutExtension('Foundation')\n",
    "\n",
    "    arcpy.AddField_management(in_features, \"FID_BCF\", \"DOUBLE\")\n",
    "\n",
    "    # Select only the Rivers subtype\n",
    "    inputLyr = arcpy.management.MakeFeatureLayer(in_features, \"bc\")\n",
    "\n",
    "    # Execute Polygon To Centerline\n",
    "    arcpy.topographic.PolygonToCenterline(inputLyr, out_feature_class)\n",
    "\n",
    "    # Check In Extensions\n",
    "    arcpy.CheckInExtension(\"Foundation\")"
   ]
  },
  {
   "cell_type": "code",
   "execution_count": 9,
   "metadata": {},
   "outputs": [],
   "source": [
    "# Setting Local Variables\n",
    "in_bc = 'C:/Users/vanessa610/Documents/Winter 2024/GEOG 275/Final Project/data/BC.shp'\n",
    "out_bc = 'C:/Users/vanessa610/Documents/Winter 2024/GEOG 275/Final Project/arcgis_project/arcgis_project.gdb/BC_lines'\n",
    "\n",
    "in_gf = 'C:/Users/vanessa610/Documents/Winter 2024/GEOG 275/Final Project/data/GFF.shp'\n",
    "out_gf = 'C:/Users/vanessa610/Documents/Winter 2024/GEOG 275/Final Project/arcgis_project/arcgis_project.gdb/GFF_lines'\n",
    "\n",
    "in_su = 'C:/Users/vanessa610/Documents/Winter 2024/GEOG 275/Final Project/data/SU.shp'\n",
    "out_su = 'C:/Users/vanessa610/Documents/Winter 2024/GEOG 275/Final Project/arcgis_project/arcgis_project.gdb/SU_lines'\n",
    "\n",
    "in_cd = 'C:/Users/vanessa610/Documents/Winter 2024/GEOG 275/Final Project/data/CD.shp'\n",
    "out_cd = 'C:/Users/vanessa610/Documents/Winter 2024/GEOG 275/Final Project/arcgis_project/arcgis_project.gdb/CD_lines'\n"
   ]
  },
  {
   "cell_type": "code",
   "execution_count": 11,
   "metadata": {},
   "outputs": [],
   "source": [
    "center(in_bc, out_bc) #Boyce and Clark\n",
    "center(in_gf, out_gf) # Griffin\n",
    "center(in_su, out_su) #Su et al\n",
    "center(in_cd, out_cd) #Congressional Districts 2021"
   ]
  },
  {
   "cell_type": "code",
   "execution_count": 8,
   "metadata": {},
   "outputs": [],
   "source": [
    "#Let's try another apprach\n",
    "import arcpy\n",
    "from arcpy import env\n",
    "from arcpy.sa import *\n",
    "\n",
    "# Set environment settings\n",
    "env.workspace = \"C:/Users/vanessa610/Documents/Winter 2024/GEOG 275/Final Project/arcgis_project/arcgis_project.gdb\" \n",
    "arcpy.CheckOutExtension(\"Spatial\")\n",
    "\n",
    "# Set local variables\n",
    "in_polygon_features = \"bc.shp\" \n",
    "out_distance_raster = \"distance_raster_bc\"\n",
    "\n",
    "# Execute EuclideanDistance\n",
    "outEucDistance = EucDistance(in_polygon_features)\n",
    "outEucDistance.save(out_distance_raster)\n"
   ]
  },
  {
   "cell_type": "code",
   "execution_count": 9,
   "metadata": {},
   "outputs": [
    {
     "data": {
      "text/plain": [
       "'CheckedOut'"
      ]
     },
     "execution_count": 9,
     "metadata": {},
     "output_type": "execute_result"
    }
   ],
   "source": [
    "\n",
    "# Input and output paths\n",
    "distance_raster = \"distance_raster_bc\"  # This is the output from the EuclideanDistance tool\n",
    "thinned_raster = \"thinned_raster_bc\"    # Specify the output path for the thinned raster\n",
    "integer_raster = Int(Raster(distance_raster))\n",
    "# Use the Thin tool\n",
    "thin_result = Thin(integer_raster, corners=\"ROUND\")\n",
    "thin_result.save(thinned_raster)\n",
    "\n",
    "# Check the Spatial Analyst extension back in after use\n",
    "arcpy.CheckInExtension(\"Spatial\")\n"
   ]
  },
  {
   "cell_type": "code",
   "execution_count": null,
   "metadata": {},
   "outputs": [],
   "source": []
  }
 ],
 "metadata": {
  "kernelspec": {
   "display_name": "ArcGISPro",
   "language": "Python",
   "name": "python3"
  },
  "language_info": {
   "file_extension": ".py",
   "name": "python",
   "version": "3"
  }
 },
 "nbformat": 4,
 "nbformat_minor": 2
}
